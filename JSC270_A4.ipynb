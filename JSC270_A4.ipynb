{
  "nbformat": 4,
  "nbformat_minor": 0,
  "metadata": {
    "colab": {
      "name": "JSC270_A4.ipynb",
      "provenance": [],
      "collapsed_sections": [],
      "toc_visible": true,
      "include_colab_link": true
    },
    "kernelspec": {
      "name": "python3",
      "display_name": "Python 3"
    },
    "language_info": {
      "name": "python"
    }
  },
  "cells": [
    {
      "cell_type": "markdown",
      "metadata": {
        "id": "view-in-github",
        "colab_type": "text"
      },
      "source": [
        "<a href=\"https://colab.research.google.com/github/annguyen1404/JSC270A4/blob/main/JSC270_A4.ipynb\" target=\"_parent\"><img src=\"https://colab.research.google.com/assets/colab-badge.svg\" alt=\"Open In Colab\"/></a>"
      ]
    },
    {
      "cell_type": "code",
      "metadata": {
        "id": "PGS_2VD8iXgu",
        "colab": {
          "base_uri": "https://localhost:8080/"
        },
        "outputId": "af61bfb5-da3b-4571-9a64-70190c5ce9ff"
      },
      "source": [
        "import pandas as pd\n",
        "import numpy as np\n",
        "import matplotlib.pyplot as plt\n",
        "from google.colab import files\n",
        "import io \n",
        "from textblob import TextBlob\n",
        "import tweepy\n",
        "from sklearn.model_selection import train_test_split\n",
        "from sklearn.linear_model import LinearRegression\n",
        "from sklearn.neighbors import KNeighborsRegressor\n",
        "from sklearn.metrics import mean_squared_error\n",
        "from statsmodels.gam.api import GLMGam, BSplines\n",
        "\n",
        "import seaborn as sns\n",
        "from scipy import stats\n",
        "import statsmodels.api as sm\n",
        "import statsmodels.formula.api as smf\n",
        "\n",
        "auth = tweepy.OAuthHandler(\"03VF15CpkFRrR3bQW5reuvxPj\", \"UkmCU6PbjZgOkCMgrrpbBYiO3llAptA4Enm78NqhMzLtZBfYTv\")\n",
        "auth.set_access_token(\"1376701637922816008-Ndna5uC6yfIlSi0e0EcPQm0Gj7jGai\", \"6KuJvWaF8ozjJdlcVcgXM9Ft5lubC4JyHk83NqA0aKgdr\")\n",
        "api = tweepy.API(auth, wait_on_rate_limit=True, wait_on_rate_limit_notify=True)"
      ],
      "execution_count": 1,
      "outputs": [
        {
          "output_type": "stream",
          "text": [
            "/usr/local/lib/python3.7/dist-packages/statsmodels/tools/_testing.py:19: FutureWarning: pandas.util.testing is deprecated. Use the functions in the public API at pandas.testing instead.\n",
            "  import pandas.util.testing as tm\n"
          ],
          "name": "stderr"
        }
      ]
    },
    {
      "cell_type": "markdown",
      "metadata": {
        "id": "L2h1RZnooIg6"
      },
      "source": [
        "## Q1. "
      ]
    },
    {
      "cell_type": "code",
      "metadata": {
        "colab": {
          "resources": {
            "http://localhost:8080/nbextensions/google.colab/files.js": {
              "data": "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",
              "ok": true,
              "headers": [
                [
                  "content-type",
                  "application/javascript"
                ]
              ],
              "status": 200,
              "status_text": ""
            }
          },
          "base_uri": "https://localhost:8080/",
          "height": 128
        },
        "id": "ATxXglO7ic3l",
        "outputId": "3f8401b5-3af8-4025-d373-41facd2a147d"
      },
      "source": [
        "# Import data\n",
        "train_file = files.upload()\n",
        "test_file = files.upload()"
      ],
      "execution_count": null,
      "outputs": [
        {
          "output_type": "display_data",
          "data": {
            "text/html": [
              "\n",
              "     <input type=\"file\" id=\"files-d36055bd-6b1e-4c47-ac60-dc649e75a2aa\" name=\"files[]\" multiple disabled\n",
              "        style=\"border:none\" />\n",
              "     <output id=\"result-d36055bd-6b1e-4c47-ac60-dc649e75a2aa\">\n",
              "      Upload widget is only available when the cell has been executed in the\n",
              "      current browser session. Please rerun this cell to enable.\n",
              "      </output>\n",
              "      <script src=\"/nbextensions/google.colab/files.js\"></script> "
            ],
            "text/plain": [
              "<IPython.core.display.HTML object>"
            ]
          },
          "metadata": {
            "tags": []
          }
        },
        {
          "output_type": "stream",
          "text": [
            "Saving covid-tweets-train.csv to covid-tweets-train (1).csv\n"
          ],
          "name": "stdout"
        },
        {
          "output_type": "display_data",
          "data": {
            "text/html": [
              "\n",
              "     <input type=\"file\" id=\"files-27b68536-9309-42f5-bcba-d51490850cfd\" name=\"files[]\" multiple disabled\n",
              "        style=\"border:none\" />\n",
              "     <output id=\"result-27b68536-9309-42f5-bcba-d51490850cfd\">\n",
              "      Upload widget is only available when the cell has been executed in the\n",
              "      current browser session. Please rerun this cell to enable.\n",
              "      </output>\n",
              "      <script src=\"/nbextensions/google.colab/files.js\"></script> "
            ],
            "text/plain": [
              "<IPython.core.display.HTML object>"
            ]
          },
          "metadata": {
            "tags": []
          }
        },
        {
          "output_type": "stream",
          "text": [
            "Saving covid-tweets-test.csv to covid-tweets-test (1).csv\n"
          ],
          "name": "stdout"
        }
      ]
    },
    {
      "cell_type": "code",
      "metadata": {
        "id": "X7vZZTOAqFck"
      },
      "source": [
        "# Read loaded data in as pandas df  \n",
        "train_data = pd.read_csv(io.BytesIO(train_file['covid-tweets-train.csv']), encoding = 'utf-8') \n",
        "test_data = pd.read_csv(io.BytesIO(test_file['covid-tweets-test.csv']), encoding = 'utf-8') "
      ],
      "execution_count": null,
      "outputs": []
    },
    {
      "cell_type": "code",
      "metadata": {
        "id": "k9L7-24C-Jjd"
      },
      "source": [
        "# Drop columns that we dont need\n",
        "train_data = train_data.drop(['Unnamed: 0'], axis = 1)\n",
        "test_data = test_data.drop(['Unnamed: 0'], axis = 1)\n",
        "# Rename columns\n",
        "train_data.columns = ['tweet', 'label']\n",
        "test_data.columns = ['tweet', 'label']"
      ],
      "execution_count": null,
      "outputs": []
    },
    {
      "cell_type": "code",
      "metadata": {
        "id": "4az9YGn8Eno3"
      },
      "source": [
        "# Remove rows with missing sentiment and convert sentiment column to int\n",
        "if (train_data.label.dtype != int):\n",
        "  train_data = train_data.drop(train_data[((train_data.label != '0') & (train_data.label != '1') & (train_data.label != '2'))].index)\n",
        "  train_data['label'] = (train_data['label']).astype(int)\n",
        "if (test_data.label.dtype != int):\n",
        "  test_data = test_data.drop(test_data[((test_data.sentiment != '0') & (test_data.label != '1') & (test_data.label != '2'))].index)\n",
        "  test_data['label'] = (test_data['label']).astype(int)\n"
      ],
      "execution_count": null,
      "outputs": []
    },
    {
      "cell_type": "markdown",
      "metadata": {
        "id": "Ppf7QoHGfm5p"
      },
      "source": [
        "### Q1A."
      ]
    },
    {
      "cell_type": "code",
      "metadata": {
        "colab": {
          "base_uri": "https://localhost:8080/",
          "height": 174
        },
        "id": "WlaUxQFQrawG",
        "outputId": "abe40ba9-9099-4985-bf2c-322909954391"
      },
      "source": [
        "# Proportion of sentiments in train data\n",
        "N = len(train_data)\n",
        "sen_prop = train_data.groupby('label').count()/N\n",
        "sen_prop.columns = [\"proportions\"]\n",
        "sen_prop\n"
      ],
      "execution_count": null,
      "outputs": [
        {
          "output_type": "execute_result",
          "data": {
            "text/html": [
              "<div>\n",
              "<style scoped>\n",
              "    .dataframe tbody tr th:only-of-type {\n",
              "        vertical-align: middle;\n",
              "    }\n",
              "\n",
              "    .dataframe tbody tr th {\n",
              "        vertical-align: top;\n",
              "    }\n",
              "\n",
              "    .dataframe thead th {\n",
              "        text-align: right;\n",
              "    }\n",
              "</style>\n",
              "<table border=\"1\" class=\"dataframe\">\n",
              "  <thead>\n",
              "    <tr style=\"text-align: right;\">\n",
              "      <th></th>\n",
              "      <th>proportions</th>\n",
              "    </tr>\n",
              "    <tr>\n",
              "      <th>label</th>\n",
              "      <th></th>\n",
              "    </tr>\n",
              "  </thead>\n",
              "  <tbody>\n",
              "    <tr>\n",
              "      <th>0</th>\n",
              "      <td>0.374159</td>\n",
              "    </tr>\n",
              "    <tr>\n",
              "      <th>1</th>\n",
              "      <td>0.187407</td>\n",
              "    </tr>\n",
              "    <tr>\n",
              "      <th>2</th>\n",
              "      <td>0.438434</td>\n",
              "    </tr>\n",
              "  </tbody>\n",
              "</table>\n",
              "</div>"
            ],
            "text/plain": [
              "       proportions\n",
              "label             \n",
              "0         0.374159\n",
              "1         0.187407\n",
              "2         0.438434"
            ]
          },
          "metadata": {
            "tags": []
          },
          "execution_count": 60
        }
      ]
    },
    {
      "cell_type": "markdown",
      "metadata": {
        "id": "wB0pma2-KPIu"
      },
      "source": [
        "### Q1B."
      ]
    },
    {
      "cell_type": "code",
      "metadata": {
        "colab": {
          "base_uri": "https://localhost:8080/"
        },
        "id": "j7KPqnEsKSAB",
        "outputId": "4cb41eed-cfd7-4311-a8be-c94bba1b4cdb"
      },
      "source": [
        "# Tokenize the tweets\n",
        "\n",
        "import nltk\n",
        "# Download the tokenizer\n",
        "nltk.download('punkt')\n",
        "# Create a new column in data for token lists\n",
        "train_data['tokens'] = train_data['tweet'].apply(nltk.word_tokenize)\n",
        "test_data['tokens'] = test_data['tweet'].apply(nltk.word_tokenize)"
      ],
      "execution_count": null,
      "outputs": [
        {
          "output_type": "stream",
          "text": [
            "[nltk_data] Downloading package punkt to /root/nltk_data...\n",
            "[nltk_data]   Package punkt is already up-to-date!\n"
          ],
          "name": "stdout"
        }
      ]
    },
    {
      "cell_type": "markdown",
      "metadata": {
        "id": "7W_YreKMK2V5"
      },
      "source": [
        "### Q1C."
      ]
    },
    {
      "cell_type": "code",
      "metadata": {
        "id": "6CusUBeNK4lG"
      },
      "source": [
        "# Using a regular expression, remove any URL tokens from each of the observations\n",
        "\n",
        "import re\n",
        "\n",
        "url = 'http'\n",
        "\n",
        "tokens_no_url = []\n",
        "# Create a list of lists with what we want\n",
        "for row in train_data['tokens']:\n",
        "  new_row = []\n",
        "  for string in row:\n",
        "    if re.match(url, string) is None:\n",
        "      new_row.append(string)\n",
        "  tokens_no_url.append(new_row)\n",
        "# add the new info to our df\n",
        "train_data['tokens_no_url'] = tokens_no_url\n",
        "\n",
        "tokens_no_url = []\n",
        "# Create a list of lists with what we want\n",
        "for row in test_data['tokens']:\n",
        "  new_row = []\n",
        "  for string in row:\n",
        "    if re.match(url, string) is None:\n",
        "      new_row.append(string)\n",
        "  tokens_no_url.append(new_row)\n",
        "# add the new info to our df\n",
        "test_data['tokens_no_url'] = tokens_no_url"
      ],
      "execution_count": null,
      "outputs": []
    },
    {
      "cell_type": "markdown",
      "metadata": {
        "id": "SX3vgpGeOh0v"
      },
      "source": [
        "### Q1D. \n",
        "Q: Can you think of a scenario when you might want to keep some forms of punctuation?\n",
        "\n",
        "We may want to keep punctuations such as the ampersands (@) as it signifies that the next word is a username (when working with twitter tweets). Other punctuations such as $ or % can also contribute to the meaning of a sentence-.\n",
        "\n",
        "Further, if we want to do Natural Language Generation, we would want to keep punctuations since they are intregral to a sentence's structure."
      ]
    },
    {
      "cell_type": "code",
      "metadata": {
        "id": "G1GtPlr0Oj14"
      },
      "source": [
        "# Remove all punctuation (,.?!;:’\") and special characters(@, #, +, &, =, $, etc). \n",
        "# Also, convert all tokens to lowercase only.\n",
        "tokens_no_punct_lower = []\n",
        "# Create a list of lists with what we want\n",
        "for row in train_data['tokens_no_url']:\n",
        "  tokens_no_punct_lower.append([re.sub('[^\\w\\s]','', t.lower()) for t in row])\n",
        "# add the new info to our df\n",
        "train_data['tokens_no_punct_lower'] = tokens_no_punct_lower\n",
        "\n",
        "tokens_no_punct_lower = []\n",
        "# Create a list of lists with what we want\n",
        "for row in test_data['tokens_no_url']:\n",
        "  tokens_no_punct_lower.append([re.sub('[^\\w\\s]','', t.lower()) for t in row])\n",
        "# add the new info to our df\n",
        "test_data['tokens_no_punct_lower'] = tokens_no_punct_lower"
      ],
      "execution_count": null,
      "outputs": []
    },
    {
      "cell_type": "markdown",
      "metadata": {
        "id": "EE7wLrytxXSN"
      },
      "source": [
        "### Q1E."
      ]
    },
    {
      "cell_type": "code",
      "metadata": {
        "id": "Ypf7hLtvxcRa"
      },
      "source": [
        "# Stem our tokens using the Porter stemmer.\n",
        "\n",
        "from nltk.stem.porter import *\n",
        "\n",
        "stemmer = PorterStemmer()\n",
        "\n",
        "stemmed_tokens = []\n",
        "for row in train_data['tokens_no_punct_lower']:\n",
        "  stemmed_tokens.append([stemmer.stem(t) for t in row])\n",
        "\n",
        "train_data['tokens_stem'] = stemmed_tokens\n",
        "\n",
        "stemmed_tokens = []\n",
        "for row in test_data['tokens_no_punct_lower']:\n",
        "  stemmed_tokens.append([stemmer.stem(t) for t in row])\n",
        "\n",
        "test_data['tokens_stem'] = stemmed_tokens"
      ],
      "execution_count": null,
      "outputs": []
    },
    {
      "cell_type": "markdown",
      "metadata": {
        "id": "11h5JFpk01up"
      },
      "source": [
        "### Q1F."
      ]
    },
    {
      "cell_type": "code",
      "metadata": {
        "colab": {
          "base_uri": "https://localhost:8080/"
        },
        "id": "u08taKp806tR",
        "outputId": "57bee75b-a350-47a5-c945-deb0f570921b"
      },
      "source": [
        "# Remove stopwords\n",
        "from nltk.corpus import stopwords\n",
        "nltk.download('stopwords')\n",
        "\n",
        "\n",
        "# First 100 stopwords in list\n",
        "sw = stopwords.words('english')[:100]\n",
        "\n",
        "tokens_no_sw = []\n",
        "for row in train_data['tokens_stem']:\n",
        "  tokens_no_sw.append([w for w in row if w not in sw])\n",
        "\n",
        "train_data['tokens_no_sw'] = tokens_no_sw\n",
        "\n",
        "tokens_no_sw = []\n",
        "for row in test_data['tokens_stem']:\n",
        "  tokens_no_sw.append([w for w in row if w not in sw])\n",
        "\n",
        "test_data['tokens_no_sw'] = tokens_no_sw"
      ],
      "execution_count": null,
      "outputs": [
        {
          "output_type": "stream",
          "text": [
            "[nltk_data] Downloading package stopwords to /root/nltk_data...\n",
            "[nltk_data]   Package stopwords is already up-to-date!\n"
          ],
          "name": "stdout"
        }
      ]
    },
    {
      "cell_type": "markdown",
      "metadata": {
        "id": "NzCYoLqs2N8h"
      },
      "source": [
        "### Q1G. \n",
        "\n",
        "The matrix of counts for the training dataset is 41151 by 1000- where 41151 is the number of tweets and 1000 is the word count. Hence, the length of our vocabulary is 1000."
      ]
    },
    {
      "cell_type": "code",
      "metadata": {
        "colab": {
          "base_uri": "https://localhost:8080/"
        },
        "id": "k948wZ4p2P1O",
        "outputId": "82989421-35d9-4b7d-828c-38d3824a3f48"
      },
      "source": [
        "from sklearn.feature_extraction.text import CountVectorizer\n",
        "\n",
        "\n",
        "def override_fcn(doc):\n",
        "  # We expect a list of tokens as input\n",
        "  return doc\n",
        "\n",
        "# Count Vectorizer\n",
        "count_vec = CountVectorizer(\n",
        "    analyzer='word',\n",
        "    tokenizer= override_fcn,\n",
        "    preprocessor= override_fcn,\n",
        "    token_pattern= None,\n",
        "    max_features = 1000)\n",
        "\n",
        "\n",
        "# Separate labels from features, converting to numpy arrays\n",
        "X_train, y_train = train_data['tokens_no_sw'].to_numpy(), train_data['label'].to_numpy()\n",
        "X_test, y_test = test_data['tokens_no_sw'].to_numpy(), test_data['label'].to_numpy()\n",
        "\n",
        "counts_train = count_vec.fit_transform(X_train)\n",
        "counts_test = count_vec.transform(X_test)\n",
        "\n",
        "print(counts_train.shape)"
      ],
      "execution_count": null,
      "outputs": [
        {
          "output_type": "stream",
          "text": [
            "(41151, 1000)\n"
          ],
          "name": "stdout"
        }
      ]
    },
    {
      "cell_type": "markdown",
      "metadata": {
        "id": "afftxZSC4HFq"
      },
      "source": [
        "### Q1H."
      ]
    },
    {
      "cell_type": "code",
      "metadata": {
        "colab": {
          "base_uri": "https://localhost:8080/"
        },
        "id": "3TnFaFFPI8ZI",
        "outputId": "71127732-17d2-4365-dd21-d42cb8caf260"
      },
      "source": [
        "from sklearn.naive_bayes import MultinomialNB\n",
        "from sklearn.metrics import accuracy_score, roc_curve\n",
        "\n",
        "# Naive Bayes model\n",
        "nb = MultinomialNB()\n",
        "# Fit model to count vectors of training data\n",
        "nb.fit(counts_train, y_train)\n",
        "\n",
        "# Predict on training and test data\n",
        "y_train_preds = nb.predict(counts_train)\n",
        "y_test_preds = nb.predict(counts_test)\n",
        "\n",
        "print('Train accuracy with simple Naive Bayes:',accuracy_score(y_train,y_train_preds))\n",
        "print('Test accuracy with simple Naive Bayes:',accuracy_score(y_test,y_test_preds))"
      ],
      "execution_count": null,
      "outputs": [
        {
          "output_type": "stream",
          "text": [
            "Train accuracy with simple Naive Bayes: 0.667079779349226\n",
            "Test accuracy with simple Naive Bayes: 0.6600842548709848\n"
          ],
          "name": "stdout"
        }
      ]
    },
    {
      "cell_type": "code",
      "metadata": {
        "colab": {
          "base_uri": "https://localhost:8080/"
        },
        "id": "RB4Rw7ohGP0v",
        "outputId": "3c280f8b-3615-4156-bcf4-02617c6d6fa1"
      },
      "source": [
        "# Report the 5 most probable words in each class, along with their counts\n",
        "word_count = counts_train.sum(axis=0)\n",
        "\n",
        "for i in range(3):\n",
        "    sorted_idx = set(np.argsort(nb.feature_log_prob_[i])[-5:])\n",
        "    print(\"\\nLabel {}\".format(i))\n",
        "\n",
        "    for word in count_vec.get_feature_names():\n",
        "      idx = count_vec.vocabulary_[word]\n",
        "      if (idx in sorted_idx):\n",
        "        log_prob = nb.feature_log_prob_[i][idx]\n",
        "        print(\"Word:{} \\tCount:{} \\tLog Probability:{}\\t Probability:{}\".format(word, word_count[0,idx], log_prob, np.exp(log_prob)))\n",
        "\n",
        "\n"
      ],
      "execution_count": null,
      "outputs": [
        {
          "output_type": "stream",
          "text": [
            "\n",
            "Label 0\n",
            "Word: \tCount:255620 \tLog Probability:-1.3138669971285335\t Probability:0.26877867780312087\n",
            "Word:coronaviru \tCount:18059 \tLog Probability:-3.9129161792365235\t Probability:0.019982144499052376\n",
            "Word:covid19 \tCount:12857 \tLog Probability:-4.292086147990478\t Probability:0.013676364596278832\n",
            "Word:food \tCount:7230 \tLog Probability:-4.528821982585024\t Probability:0.010793383380147183\n",
            "Word:price \tCount:9047 \tLog Probability:-4.351275019380809\t Probability:0.012890366630975442\n",
            "\n",
            "Label 1\n",
            "Word: \tCount:255620 \tLog Probability:-0.9976501304472087\t Probability:0.3687449263597359\n",
            "Word:coronaviru \tCount:18059 \tLog Probability:-3.5886054933345424\t Probability:0.027636843325988623\n",
            "Word:covid19 \tCount:12857 \tLog Probability:-3.9842838723209653\t Probability:0.01860576365534037\n",
            "Word:store \tCount:8192 \tLog Probability:-4.463916886655389\t Probability:0.011517163400208748\n",
            "Word:supermarket \tCount:7744 \tLog Probability:-4.560990735347211\t Probability:0.010451698944682827\n",
            "\n",
            "Label 2\n",
            "Word: \tCount:255620 \tLog Probability:-1.2701881185287274\t Probability:0.2807787971156754\n",
            "Word:coronaviru \tCount:18059 \tLog Probability:-3.991015764211747\t Probability:0.01848093231284734\n",
            "Word:covid19 \tCount:12857 \tLog Probability:-4.270214222685713\t Probability:0.013978788258998748\n",
            "Word:store \tCount:8192 \tLog Probability:-4.642191451434016\t Probability:0.009636556425642033\n",
            "Word:thi \tCount:7962 \tLog Probability:-4.677264535881443\t Probability:0.009304431044620426\n"
          ],
          "name": "stdout"
        }
      ]
    },
    {
      "cell_type": "markdown",
      "metadata": {
        "id": "nbKKHcPmKM6X"
      },
      "source": [
        "### Q1J."
      ]
    },
    {
      "cell_type": "code",
      "metadata": {
        "colab": {
          "base_uri": "https://localhost:8080/"
        },
        "id": "ggdUghAk6u1w",
        "outputId": "fc067932-a360-4f6b-c5da-4189c85b751d"
      },
      "source": [
        "from sklearn.feature_extraction.text import TfidfTransformer\n",
        "from sklearn.naive_bayes import MultinomialNB\n",
        "from sklearn.metrics import accuracy_score, roc_curve\n",
        "\n",
        "# Part G: TFIDF\n",
        "tfidf = TfidfTransformer()\n",
        "tfs_train = tfidf.fit_transform(counts_train)\n",
        "tfs_test = tfidf.transform(counts_test)\n",
        "\n",
        "X_train = tfs_train.toarray()\n",
        "X_test = tfs_test.toarray()\n",
        "\n",
        "\n",
        "# Part H: Naive Bayes model\n",
        "nb = MultinomialNB()\n",
        "# Fit model to training data\n",
        "nb.fit(X_train, y_train)\n",
        "# Predict on test data\n",
        "y_train_preds = nb.predict(X_train)\n",
        "y_test_preds = nb.predict(X_test)\n",
        "\n",
        "print('Train accuracy with simple Naive Bayes:',accuracy_score(y_train,y_train_preds))\n",
        "print('Test accuracy with simple Naive Bayes:',accuracy_score(y_test,y_test_preds))"
      ],
      "execution_count": null,
      "outputs": [
        {
          "output_type": "stream",
          "text": [
            "Train accuracy with simple Naive Bayes: 0.6585988189837428\n",
            "Test accuracy with simple Naive Bayes: 0.6532385466034755\n"
          ],
          "name": "stdout"
        }
      ]
    },
    {
      "cell_type": "code",
      "metadata": {
        "colab": {
          "base_uri": "https://localhost:8080/"
        },
        "id": "okYMNFZgTWps",
        "outputId": "aa20741c-d0b3-4d02-ca8e-5441bfe192df"
      },
      "source": [
        "# Report the 5 most probable words in each class, along with their counts\n",
        "word_count = counts_train.sum(axis=0)\n",
        "\n",
        "for i in range(3):\n",
        "    sorted_idx = set(np.argsort(nb.feature_log_prob_[i])[-5:])\n",
        "    print(\"\\nLabel {}\".format(i))\n",
        "\n",
        "    for word in count_vec.get_feature_names():\n",
        "      idx = count_vec.vocabulary_[word]\n",
        "      if (idx in sorted_idx):\n",
        "        log_prob = nb.feature_log_prob_[i][idx]\n",
        "        print(\"Word:{} \\tCount:{} \\tLog Probability:{}\".format(word, word_count[0,idx], log_prob))"
      ],
      "execution_count": null,
      "outputs": [
        {
          "output_type": "stream",
          "text": [
            "\n",
            "Label 0\n",
            "Word: \tCount:255620 \tLog Probability:-2.4438990191074126\n",
            "Word:coronaviru \tCount:18059 \tLog Probability:-4.512890825710254\n",
            "Word:covid19 \tCount:12857 \tLog Probability:-4.7163975794611135\n",
            "Word:food \tCount:7230 \tLog Probability:-4.74151774842782\n",
            "Word:price \tCount:9047 \tLog Probability:-4.608716280237829\n",
            "\n",
            "Label 1\n",
            "Word: \tCount:255620 \tLog Probability:-2.0886927713703205\n",
            "Word:coronaviru \tCount:18059 \tLog Probability:-4.06037115339\n",
            "Word:covid19 \tCount:12857 \tLog Probability:-4.264195376995263\n",
            "Word:store \tCount:8192 \tLog Probability:-4.529476973219568\n",
            "Word:supermarket \tCount:7744 \tLog Probability:-4.598951494243385\n",
            "\n",
            "Label 2\n",
            "Word: \tCount:255620 \tLog Probability:-2.391824072585525\n",
            "Word:coronaviru \tCount:18059 \tLog Probability:-4.5910210214078635\n",
            "Word:covid19 \tCount:12857 \tLog Probability:-4.710604292078139\n",
            "Word:store \tCount:8192 \tLog Probability:-4.8856641795510685\n",
            "Word:thi \tCount:7962 \tLog Probability:-4.937911941559693\n"
          ],
          "name": "stdout"
        }
      ]
    },
    {
      "cell_type": "markdown",
      "metadata": {
        "id": "GLn9tMwlKsuL"
      },
      "source": [
        "### Q1K."
      ]
    },
    {
      "cell_type": "code",
      "metadata": {
        "colab": {
          "base_uri": "https://localhost:8080/"
        },
        "id": "8ziUFkFlKsRT",
        "outputId": "aa66d712-f8c4-476a-9467-465194f8e69c"
      },
      "source": [
        "# Part E: Lemmatize\n",
        "from nltk.stem import WordNetLemmatizer\n",
        "nltk.download('wordnet')\n",
        "\n",
        "lemmatizer = WordNetLemmatizer()\n",
        "\n",
        "lemmatized_tokens = []\n",
        "for row in train_data['tokens_no_punct_lower']:\n",
        "  lemmatized_tokens.append([lemmatizer.lemmatize(t) for t in row])\n",
        "\n",
        "train_data['tokens_lemmatized'] = lemmatized_tokens\n",
        "\n",
        "lemmatized_tokens = []\n",
        "for row in test_data['tokens_no_punct_lower']:\n",
        "  lemmatized_tokens.append([lemmatizer.lemmatize(t) for t in row])\n",
        "\n",
        "test_data['tokens_lemmatized'] = stemmed_tokens"
      ],
      "execution_count": null,
      "outputs": [
        {
          "output_type": "stream",
          "text": [
            "[nltk_data] Downloading package wordnet to /root/nltk_data...\n",
            "[nltk_data]   Package wordnet is already up-to-date!\n"
          ],
          "name": "stdout"
        }
      ]
    },
    {
      "cell_type": "code",
      "metadata": {
        "colab": {
          "base_uri": "https://localhost:8080/"
        },
        "id": "z5cDmv5zLz7X",
        "outputId": "a3846368-12c6-4e62-fcb2-c52657b38d0a"
      },
      "source": [
        "# Part F: Remove stopwords\n",
        "from nltk.corpus import stopwords\n",
        "nltk.download('stopwords')\n",
        "\n",
        "\n",
        "# First 100 stopwords in list\n",
        "sw = stopwords.words('english')[:100]\n",
        "\n",
        "tokens_no_sw = []\n",
        "for row in train_data['tokens_lemmatized']:\n",
        "  tokens_no_sw.append([w for w in row if w not in sw])\n",
        "\n",
        "train_data['tokens_no_sw_lemma'] = tokens_no_sw\n",
        "\n",
        "tokens_no_sw = []\n",
        "for row in test_data['tokens_lemmatized']:\n",
        "  tokens_no_sw.append([w for w in row if w not in sw])\n",
        "\n",
        "test_data['tokens_no_sw_lemma'] = tokens_no_sw"
      ],
      "execution_count": null,
      "outputs": [
        {
          "output_type": "stream",
          "text": [
            "[nltk_data] Downloading package stopwords to /root/nltk_data...\n",
            "[nltk_data]   Package stopwords is already up-to-date!\n"
          ],
          "name": "stdout"
        }
      ]
    },
    {
      "cell_type": "code",
      "metadata": {
        "id": "0QSBn79_MIOS"
      },
      "source": [
        "# Part G: Count vectorize + TFIDF\n",
        "from sklearn.feature_extraction.text import CountVectorizer\n",
        "\n",
        "\n",
        "def override_fcn(doc):\n",
        "  # We expect a list of tokens as input\n",
        "  return doc\n",
        "\n",
        "# Count Vectorizer\n",
        "count_vec_lemma = CountVectorizer(\n",
        "    analyzer='word',\n",
        "    tokenizer= override_fcn,\n",
        "    preprocessor= override_fcn,\n",
        "    token_pattern= None,\n",
        "    max_features = 1000)\n",
        "\n",
        "\n",
        "# Separate labels from features, converting to numpy arrays\n",
        "X_train, y_train = train_data['tokens_no_sw_lemma'].to_numpy(), train_data['label'].to_numpy()\n",
        "X_test, y_test = test_data['tokens_no_sw_lemma'].to_numpy(), test_data['label'].to_numpy()\n",
        "\n",
        "counts_train = count_vec_lemma.fit_transform(X_train)\n",
        "counts_test = count_vec_lemma.transform(X_test)\n",
        "\n",
        "tfidf = TfidfTransformer()\n",
        "tfs_train = tfidf.fit_transform(counts_train)\n",
        "tfs_test = tfidf.transform(counts_test)\n",
        "\n",
        "X_train = tfs_train.toarray()\n",
        "X_test = tfs_test.toarray()"
      ],
      "execution_count": null,
      "outputs": []
    },
    {
      "cell_type": "code",
      "metadata": {
        "colab": {
          "base_uri": "https://localhost:8080/"
        },
        "id": "u8Laz2CsNtss",
        "outputId": "37d0286b-c2e7-46ad-cdbc-e4755eb05380"
      },
      "source": [
        "# Part H: Naive Bayes\n",
        "nb = MultinomialNB()\n",
        "# Fit model to training data\n",
        "nb.fit(X_train, y_train)\n",
        "# Predict on test data\n",
        "y_train_preds = nb.predict(X_train)\n",
        "y_test_preds = nb.predict(X_test)\n",
        "\n",
        "print('Train accuracy with simple Naive Bayes:',accuracy_score(y_train,y_train_preds))\n",
        "print('Test accuracy with simple Naive Bayes:',accuracy_score(y_test,y_test_preds))"
      ],
      "execution_count": null,
      "outputs": [
        {
          "output_type": "stream",
          "text": [
            "Train accuracy with simple Naive Bayes: 0.649510339967437\n",
            "Test accuracy with simple Naive Bayes: 0.5984728804634017\n"
          ],
          "name": "stdout"
        }
      ]
    },
    {
      "cell_type": "code",
      "metadata": {
        "id": "Vb9CZOJZWE5p",
        "colab": {
          "base_uri": "https://localhost:8080/"
        },
        "outputId": "6dab53ab-29e8-49f4-ec41-f66c39b6218c"
      },
      "source": [
        "# Report the 5 most probable words in each class, along with their counts\n",
        "word_count = counts_train.sum(axis=0)\n",
        "\n",
        "for i in range(3):\n",
        "    sorted_idx = set(np.argsort(nb.feature_log_prob_[i])[-5:])\n",
        "    print(\"\\nLabel {}\".format(i))\n",
        "\n",
        "    for word in count_vec.get_feature_names():\n",
        "      idx = count_vec.vocabulary_[word]\n",
        "      if (idx in sorted_idx):\n",
        "        log_prob = nb.feature_log_prob_[i][idx]\n",
        "        print(\"Word:{} \\tCount:{} \\tLog Probability:{}\\t Probability:{}\".format(word, word_count[0,idx], log_prob, np.exp(log_prob)))\n"
      ],
      "execution_count": null,
      "outputs": [
        {
          "output_type": "stream",
          "text": [
            "\n",
            "Label 0\n",
            "Word: \tCount:255620 \tLog Probability:-2.3712433423555694\t Probability:0.09336456995764793\n",
            "Word:contact \tCount:18054 \tLog Probability:-4.440411236811016\t Probability:0.011791088592914332\n",
            "Word:corpor \tCount:12857 \tLog Probability:-4.634802088979129\t Probability:0.00970802817400293\n",
            "Word:farm \tCount:7230 \tLog Probability:-4.664872104764449\t Probability:0.009420452977519873\n",
            "Word:practic \tCount:8944 \tLog Probability:-4.532638846548063\t Probability:0.010752265025586316\n",
            "\n",
            "Label 1\n",
            "Word: \tCount:255620 \tLog Probability:-2.0325863988586974\t Probability:0.13099627400980932\n",
            "Word:contact \tCount:18054 \tLog Probability:-4.001009637605865\t Probability:0.01829715606298471\n",
            "Word:corpor \tCount:12857 \tLog Probability:-4.203032508972565\t Probability:0.01495017148006796\n",
            "Word:still \tCount:8177 \tLog Probability:-4.47095539962172\t Probability:0.011436384312097774\n",
            "Word:street \tCount:7744 \tLog Probability:-4.538622473675227\t Probability:0.010688119583491862\n",
            "\n",
            "Label 2\n",
            "Word: \tCount:255620 \tLog Probability:-2.326645756486913\t Probability:0.09762264866530772\n",
            "Word:contact \tCount:18054 \tLog Probability:-4.5262820232180045\t Probability:0.01082083298104353\n",
            "Word:corpor \tCount:12857 \tLog Probability:-4.640175998889801\t Probability:0.00965599803304505\n",
            "Word:glove \tCount:6741 \tLog Probability:-4.933453410964849\t Probability:0.007201590237955204\n",
            "Word:still \tCount:8177 \tLog Probability:-4.821273021810073\t Probability:0.008056524476816746\n"
          ],
          "name": "stdout"
        }
      ]
    },
    {
      "cell_type": "markdown",
      "metadata": {
        "id": "Mk85ae_CDU0Y"
      },
      "source": [
        "## Q2."
      ]
    },
    {
      "cell_type": "code",
      "metadata": {
        "colab": {
          "base_uri": "https://localhost:8080/"
        },
        "id": "sWvGS9U-oaPu",
        "outputId": "56547203-1bcf-4566-9f9e-e4f060bb115f"
      },
      "source": [
        "!pip install tweepy"
      ],
      "execution_count": null,
      "outputs": [
        {
          "output_type": "stream",
          "text": [
            "Requirement already satisfied: tweepy in /usr/local/lib/python3.7/dist-packages (3.10.0)\n",
            "Requirement already satisfied: requests[socks]>=2.11.1 in /usr/local/lib/python3.7/dist-packages (from tweepy) (2.23.0)\n",
            "Requirement already satisfied: requests-oauthlib>=0.7.0 in /usr/local/lib/python3.7/dist-packages (from tweepy) (1.3.0)\n",
            "Requirement already satisfied: six>=1.10.0 in /usr/local/lib/python3.7/dist-packages (from tweepy) (1.15.0)\n",
            "Requirement already satisfied: certifi>=2017.4.17 in /usr/local/lib/python3.7/dist-packages (from requests[socks]>=2.11.1->tweepy) (2020.12.5)\n",
            "Requirement already satisfied: chardet<4,>=3.0.2 in /usr/local/lib/python3.7/dist-packages (from requests[socks]>=2.11.1->tweepy) (3.0.4)\n",
            "Requirement already satisfied: urllib3!=1.25.0,!=1.25.1,<1.26,>=1.21.1 in /usr/local/lib/python3.7/dist-packages (from requests[socks]>=2.11.1->tweepy) (1.24.3)\n",
            "Requirement already satisfied: idna<3,>=2.5 in /usr/local/lib/python3.7/dist-packages (from requests[socks]>=2.11.1->tweepy) (2.10)\n",
            "Requirement already satisfied: PySocks!=1.5.7,>=1.5.6; extra == \"socks\" in /usr/local/lib/python3.7/dist-packages (from requests[socks]>=2.11.1->tweepy) (1.7.1)\n",
            "Requirement already satisfied: oauthlib>=3.0.0 in /usr/local/lib/python3.7/dist-packages (from requests-oauthlib>=0.7.0->tweepy) (3.1.0)\n"
          ],
          "name": "stdout"
        }
      ]
    },
    {
      "cell_type": "markdown",
      "metadata": {
        "id": "lzoxv3MaAfFq"
      },
      "source": [
        "## Getting the data"
      ]
    },
    {
      "cell_type": "code",
      "metadata": {
        "id": "vmzTbG_7ogQS"
      },
      "source": [
        "tweets = tweepy.Cursor(api.search,\n",
        "              # q=\"covid OR #covid OR cov OR pandemic OR sars-cov-2 OR corona\",\n",
        "              q=\"#\",\n",
        "              lang=\"en\",\n",
        "              since=\"2021-01-01\",\n",
        "              result_type=\"mixed\",\n",
        "              tweet_mode=\"extended\")\n"
      ],
      "execution_count": null,
      "outputs": []
    },
    {
      "cell_type": "code",
      "metadata": {
        "id": "sWDnm4GZk6Di"
      },
      "source": [
        "# Retrieving data from Twitter\n",
        "text_list = []\n",
        "favorite_count_list = []\n",
        "polarity_list = []\n",
        "subjectivity_list = []\n",
        "\n",
        "for status in tweets.items(9999):\n",
        "  tb = TextBlob(status.full_text)\n",
        "  text_list.append(status.full_text)\n",
        "  favorite_count_list.append(status.favorite_count)\n",
        "  polarity_list.append(tb.sentiment.polarity)\n",
        "  subjectivity_list.append(tb.sentiment.subjectivity)\n",
        "\n",
        "twitter_data = pd.DataFrame({\n",
        "    'text': text_list, \n",
        "    'favorite_count': favorite_count_list,\n",
        "    'polarity': polarity_list,\n",
        "    'subjectivity': subjectivity_list\n",
        "    })"
      ],
      "execution_count": null,
      "outputs": []
    },
    {
      "cell_type": "code",
      "metadata": {
        "id": "otpDyurhnEAB"
      },
      "source": [
        "# Download Twitter data as .csv for reproducibility\n",
        "from google.colab import files\n",
        "twitter_data.to_csv(\"twitter_data.csv\")\n",
        "files.download(\"twitter_data.csv\")"
      ],
      "execution_count": null,
      "outputs": []
    },
    {
      "cell_type": "code",
      "metadata": {
        "colab": {
          "resources": {
            "http://localhost:8080/nbextensions/google.colab/files.js": {
              "data": "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",
              "ok": true,
              "headers": [
                [
                  "content-type",
                  "application/javascript"
                ]
              ],
              "status": 200,
              "status_text": ""
            }
          },
          "base_uri": "https://localhost:8080/",
          "height": 72
        },
        "id": "Te5JFSXgEX9a",
        "outputId": "e69e2b05-e09d-452c-af02-329aaf499929"
      },
      "source": [
        "# Using downloaded Twitter data\n",
        "twitter_file = files.upload() \n",
        "twitter_data = pd.read_csv(io.BytesIO(twitter_file['twitter_data.csv']), encoding = 'utf-8')"
      ],
      "execution_count": 2,
      "outputs": [
        {
          "output_type": "display_data",
          "data": {
            "text/html": [
              "\n",
              "     <input type=\"file\" id=\"files-a8e53876-1a49-46bc-951b-016f7cc4dfa8\" name=\"files[]\" multiple disabled\n",
              "        style=\"border:none\" />\n",
              "     <output id=\"result-a8e53876-1a49-46bc-951b-016f7cc4dfa8\">\n",
              "      Upload widget is only available when the cell has been executed in the\n",
              "      current browser session. Please rerun this cell to enable.\n",
              "      </output>\n",
              "      <script src=\"/nbextensions/google.colab/files.js\"></script> "
            ],
            "text/plain": [
              "<IPython.core.display.HTML object>"
            ]
          },
          "metadata": {
            "tags": []
          }
        },
        {
          "output_type": "stream",
          "text": [
            "Saving twitter_data.csv to twitter_data.csv\n"
          ],
          "name": "stdout"
        }
      ]
    },
    {
      "cell_type": "code",
      "metadata": {
        "id": "DLeJR2W8Ib1s",
        "colab": {
          "base_uri": "https://localhost:8080/"
        },
        "outputId": "3db73b53-a64d-49f0-8ff2-f73f4824bb80"
      },
      "source": [
        "print(twitter_data.shape)\n",
        "print(twitter_data.columns)\n",
        "twitter_data = twitter_data.drop(['Unnamed: 0'], axis = 1)"
      ],
      "execution_count": 3,
      "outputs": [
        {
          "output_type": "stream",
          "text": [
            "(9999, 5)\n",
            "Index(['Unnamed: 0', 'text', 'favorite_count', 'polarity', 'subjectivity'], dtype='object')\n"
          ],
          "name": "stdout"
        }
      ]
    },
    {
      "cell_type": "markdown",
      "metadata": {
        "id": "FOl5E_vDAjqR"
      },
      "source": [
        "## Exploratory Data Analysis"
      ]
    },
    {
      "cell_type": "code",
      "metadata": {
        "colab": {
          "base_uri": "https://localhost:8080/",
          "height": 947
        },
        "id": "GfXc2bJvUBSw",
        "outputId": "daeb91a1-feec-4f10-a949-551a316a156a"
      },
      "source": [
        "# Exploratory data analysis.\n",
        "twitter_data.hist(bins=20, layout=(3, 1), figsize=(10,15))"
      ],
      "execution_count": 4,
      "outputs": [
        {
          "output_type": "execute_result",
          "data": {
            "text/plain": [
              "array([[<matplotlib.axes._subplots.AxesSubplot object at 0x7fed0fcd7b10>],\n",
              "       [<matplotlib.axes._subplots.AxesSubplot object at 0x7fed0fc37210>],\n",
              "       [<matplotlib.axes._subplots.AxesSubplot object at 0x7fed0fbef890>]],\n",
              "      dtype=object)"
            ]
          },
          "metadata": {
            "tags": []
          },
          "execution_count": 4
        },
        {
          "output_type": "display_data",
          "data": {
            "image/png": "[encoded data removed]",
            "text/plain": [
              "<Figure size 720x1080 with 3 Axes>"
            ]
          },
          "metadata": {
            "tags": [],
            "needs_background": "light"
          }
        }
      ]
    },
    {
      "cell_type": "code",
      "metadata": {
        "colab": {
          "base_uri": "https://localhost:8080/"
        },
        "id": "FGR8CJtSqsyq",
        "outputId": "0f3c3336-b597-469f-d731-e580c400f4e7"
      },
      "source": [
        "print(twitter_data.describe())\n",
        "print(\"\\nExploring favorite_count\")\n",
        "print(\"Number of tweets over 100 likes: \", len(twitter_data[twitter_data.favorite_count>100]))\n",
        "print(\"Number of tweets over 1000 likes: \", len(twitter_data[twitter_data.favorite_count>1000]))\n",
        "print(\"Number of tweets over 10000 likes: \", len(twitter_data[twitter_data.favorite_count>10000]))"
      ],
      "execution_count": 5,
      "outputs": [
        {
          "output_type": "stream",
          "text": [
            "       favorite_count     polarity  subjectivity\n",
            "count      9999.00000  9999.000000   9999.000000\n",
            "mean          8.59666     0.087396      0.332452\n",
            "std         514.96951     0.301567      0.338318\n",
            "min           0.00000    -1.000000      0.000000\n",
            "25%           0.00000     0.000000      0.000000\n",
            "50%           0.00000     0.000000      0.300000\n",
            "75%           0.00000     0.200000      0.600000\n",
            "max       48940.00000     1.000000      1.000000\n",
            "\n",
            "Exploring favorite_count\n",
            "Number of tweets over 100 likes:  21\n",
            "Number of tweets over 1000 likes:  3\n",
            "Number of tweets over 10000 likes:  2\n"
          ],
          "name": "stdout"
        }
      ]
    },
    {
      "cell_type": "code",
      "metadata": {
        "id": "Z7ABo6zIIHKH"
      },
      "source": [
        "X = twitter_data.drop(['text', 'subjectivity'], axis = 1)\n",
        "X = X.to_numpy()\n",
        "y = twitter_data['subjectivity'].to_numpy()\n",
        "\n",
        "# Split data into train and test sets using 80/20 split\n",
        "X_train, X_test, y_train, y_test = train_test_split(X, y, test_size = 0.2, shuffle=True, random_state=10)"
      ],
      "execution_count": 6,
      "outputs": []
    },
    {
      "cell_type": "markdown",
      "metadata": {
        "id": "9p27UgfoAcsJ"
      },
      "source": [
        "## Models"
      ]
    },
    {
      "cell_type": "code",
      "metadata": {
        "colab": {
          "base_uri": "https://localhost:8080/",
          "height": 431
        },
        "id": "I-gAcSbWevde",
        "outputId": "76254521-c255-4ae3-fdf1-52bbf24700ba"
      },
      "source": [
        "# SLR with polarity as explanatory variable and subjectivity as response variabl\n",
        "\n",
        "print(\"SLR with polarity as explanatory variable and subjectivity as response variable\")\n",
        "\n",
        "X_train_sent = X_train[:, 1].reshape(-1, 1)\n",
        "X_test_sent = X_test[:, 1].reshape(-1, 1)\n",
        "\n",
        "# Instantiate the model object\n",
        "linreg = LinearRegression(fit_intercept = True)\n",
        "\n",
        "# Fit the model to our dataset\n",
        "linreg.fit(X_train_sent, y_train)\n",
        "\n",
        "plt.scatter(X_train_sent, y_train,color='g')\n",
        "plt.plot(X_train_sent, linreg.predict(X_train_sent),color='k')\n",
        "plt.xlabel(\"Polarity\")\n",
        "plt.ylabel(\"Subjectivity\")\n",
        "plt.title(\"Polarity vs. Subjectivity\")\n",
        "plt.show()\n",
        "\n",
        "# What coefficients do we come up with?\n",
        "print('Coefficient for polarity:\\n',linreg.coef_)\n",
        "print('Intercept:\\n', linreg.intercept_)\n",
        "\n",
        "# What is the R^2 value of the regression?\n",
        "print('R-squared coefficient: ', linreg.score(X_train_sent, y_train))\n",
        "\n",
        "\n",
        "# Generate predictions from training data\n",
        "y_train_sent_preds = linreg.predict(X_train_sent)\n",
        "\n",
        "# Generate predictions from test set\n",
        "y_test_sent_preds = linreg.predict(X_test_sent)\n",
        "\n",
        "# Generate Train and Test errors\n",
        "train_sent_mse = mean_squared_error(y_train, y_train_sent_preds, squared = False)\n",
        "test_sent_mse = mean_squared_error(y_test, y_test_sent_preds, squared = False)\n",
        "\n",
        "# Setting squared=False gives Root MSE\n",
        "print('Train RMSE: ', train_sent_mse)\n",
        "print('Test RMSE: ', test_sent_mse)"
      ],
      "execution_count": 7,
      "outputs": [
        {
          "output_type": "stream",
          "text": [
            "SLR with polarity as explanatory variable and subjectivity as response variable\n"
          ],
          "name": "stdout"
        },
        {
          "output_type": "display_data",
          "data": {
            "image/png": "[encoded data removed]",
            "text/plain": [
              "<Figure size 432x288 with 1 Axes>"
            ]
          },
          "metadata": {
            "tags": [],
            "needs_background": "light"
          }
        },
        {
          "output_type": "stream",
          "text": [
            "Coefficient for polarity:\n",
            " [0.27710813]\n",
            "Intercept:\n",
            " 0.3067854627512568\n",
            "R-squared coefficient:  0.06028621850273874\n",
            "Train RMSE:  0.32718447028916153\n",
            "Test RMSE:  0.3279755844979715\n"
          ],
          "name": "stdout"
        }
      ]
    },
    {
      "cell_type": "code",
      "metadata": {
        "colab": {
          "base_uri": "https://localhost:8080/",
          "height": 431
        },
        "id": "qdauX-9GhGIs",
        "outputId": "ae9dd491-5287-405b-9358-1a7a7d82d85d"
      },
      "source": [
        "# SLR with absolute value of polarity as explanatory variable and subjectivity as response variable\n",
        "\n",
        "print(\"SLR with absolute value of polarity as explanatory variable and subjectivity as response variable\")\n",
        "\n",
        "X_train_abs_sent = X_train[:, 1].reshape(-1, 1)\n",
        "X_train_abs_sent = np.abs(X_train_abs_sent)\n",
        "X_test_abs_sent = X_test[:, 1].reshape(-1, 1)\n",
        "X_test_abs_sent = np.abs(X_test_abs_sent)\n",
        "\n",
        "# Instantiate the model object\n",
        "linreg = LinearRegression(fit_intercept = True)\n",
        "\n",
        "# Fit the model to our dataset\n",
        "linreg.fit(X_train_abs_sent, y_train)\n",
        "\n",
        "plt.scatter(X_train_abs_sent, y_train,color='g')\n",
        "plt.plot(X_train_abs_sent, linreg.predict(X_train_abs_sent),color='k')\n",
        "plt.xlabel(\"Absolute Value of Polarity\")\n",
        "plt.ylabel(\"Subjectivity\")\n",
        "plt.title(\"Absolute Value of Polarity vs. Subjectivity\")\n",
        "plt.show()\n",
        "\n",
        "# What coefficients do we come up with?\n",
        "print('Coefficient for absolute vaule of polarity:\\n',linreg.coef_)\n",
        "print('Intercept:\\n', linreg.intercept_)\n",
        "\n",
        "# What is the R^2 value of the regression?\n",
        "print('R-squared coefficient: ', linreg.score(X_train_abs_sent, y_train))\n",
        "\n",
        "\n",
        "# Generate predictions from training data\n",
        "y_train_abs_sent_preds = linreg.predict(X_train_abs_sent)\n",
        "\n",
        "# Generate predictions from test set\n",
        "y_test_abs_sent_preds = linreg.predict(X_test_abs_sent)\n",
        "\n",
        "# Generate Train and Test errors\n",
        "train_abs_sent_mse = mean_squared_error(y_train, y_train_abs_sent_preds, squared = False)\n",
        "test_abs_sent_mse = mean_squared_error(y_test, y_test_abs_sent_preds, squared = False)\n",
        "\n",
        "# Setting squared=False gives Root MSE\n",
        "print('Train RMSE: ', train_abs_sent_mse)\n",
        "print('Test RMSE: ', test_abs_sent_mse)"
      ],
      "execution_count": 8,
      "outputs": [
        {
          "output_type": "stream",
          "text": [
            "SLR with absolute value of polarity as explanatory variable and subjectivity as response variable\n"
          ],
          "name": "stdout"
        },
        {
          "output_type": "display_data",
          "data": {
            "image/png": "[encoded data removed]",
            "text/plain": [
              "<Figure size 432x288 with 1 Axes>"
            ]
          },
          "metadata": {
            "tags": [],
            "needs_background": "light"
          }
        },
        {
          "output_type": "stream",
          "text": [
            "Coefficient for absolute vaule of polarity:\n",
            " [0.98498577]\n",
            "Intercept:\n",
            " 0.14705077022411947\n",
            "R-squared coefficient:  0.5279993925491302\n",
            "Train RMSE:  0.23188153282531773\n",
            "Test RMSE:  0.23426203220824005\n"
          ],
          "name": "stdout"
        }
      ]
    },
    {
      "cell_type": "code",
      "metadata": {
        "colab": {
          "base_uri": "https://localhost:8080/"
        },
        "id": "LwuiaohIkNSl",
        "outputId": "cac26f54-7860-402c-bb3a-ae83cdffbc2f"
      },
      "source": [
        "# Using Statsmodels and sk-learn for final models and inference\n",
        "df = pd.DataFrame({'like_counts':X_train[:, 0], 'polarity':X_train[:, 1], 'abs_polarity': np.abs(X_train[:, 1]), 'sq_polarity': np.square(X_train[:, 1]), 'subjectivity':y_train})\n",
        "\n",
        "# Quadratic regression\n",
        "reg_quad = smf.ols('subjectivity~sq_polarity+polarity', data=df).fit()\n",
        "print(reg_quad.summary())\n",
        "\n",
        "# Linear regression with absolute term\n",
        "reg_abs = smf.ols('subjectivity~abs_polarity', data=df).fit()\n",
        "print(reg_abs.summary())\n",
        "\n",
        "# Generative additive model\n",
        "bs = BSplines(df['polarity'], df=[10], degree=[3])\n",
        "reg_gam = GLMGam.from_formula('subjectivity~polarity', data=df, smoother=bs).fit()\n",
        "print(reg_gam.summary())\n",
        " \n",
        "# KNN Regression\n",
        "knr = KNeighborsRegressor(n_neighbors=17)\n",
        "knr.fit(np.array(df['polarity']).reshape(-1, 1), df['subjectivity'])"
      ],
      "execution_count": 13,
      "outputs": [
        {
          "output_type": "stream",
          "text": [
            "                            OLS Regression Results                            \n",
            "==============================================================================\n",
            "Dep. Variable:           subjectivity   R-squared:                       0.329\n",
            "Model:                            OLS   Adj. R-squared:                  0.329\n",
            "Method:                 Least Squares   F-statistic:                     1965.\n",
            "Date:                Fri, 09 Apr 2021   Prob (F-statistic):               0.00\n",
            "Time:                        05:09:08   Log-Likelihood:                -1063.4\n",
            "No. Observations:                7999   AIC:                             2133.\n",
            "Df Residuals:                    7996   BIC:                             2154.\n",
            "Df Model:                           2                                         \n",
            "Covariance Type:            nonrobust                                         \n",
            "===============================================================================\n",
            "                  coef    std err          t      P>|t|      [0.025      0.975]\n",
            "-------------------------------------------------------------------------------\n",
            "Intercept       0.2324      0.003     66.978      0.000       0.226       0.239\n",
            "sq_polarity     1.0072      0.018     56.659      0.000       0.972       1.042\n",
            "polarity        0.0064      0.011      0.560      0.576      -0.016       0.029\n",
            "==============================================================================\n",
            "Omnibus:                      412.491   Durbin-Watson:                   2.010\n",
            "Prob(Omnibus):                  0.000   Jarque-Bera (JB):              478.604\n",
            "Skew:                           0.598   Prob(JB):                    1.18e-104\n",
            "Kurtosis:                       3.070   Cond. No.                         6.11\n",
            "==============================================================================\n",
            "\n",
            "Warnings:\n",
            "[1] Standard Errors assume that the covariance matrix of the errors is correctly specified.\n",
            "                            OLS Regression Results                            \n",
            "==============================================================================\n",
            "Dep. Variable:           subjectivity   R-squared:                       0.528\n",
            "Model:                            OLS   Adj. R-squared:                  0.528\n",
            "Method:                 Least Squares   F-statistic:                     8946.\n",
            "Date:                Fri, 09 Apr 2021   Prob (F-statistic):               0.00\n",
            "Time:                        05:09:08   Log-Likelihood:                 340.68\n",
            "No. Observations:                7999   AIC:                            -677.4\n",
            "Df Residuals:                    7997   BIC:                            -663.4\n",
            "Df Model:                           1                                         \n",
            "Covariance Type:            nonrobust                                         \n",
            "================================================================================\n",
            "                   coef    std err          t      P>|t|      [0.025      0.975]\n",
            "--------------------------------------------------------------------------------\n",
            "Intercept        0.1471      0.003     45.441      0.000       0.141       0.153\n",
            "abs_polarity     0.9850      0.010     94.582      0.000       0.965       1.005\n",
            "==============================================================================\n",
            "Omnibus:                     1361.689   Durbin-Watson:                   1.994\n",
            "Prob(Omnibus):                  0.000   Jarque-Bera (JB):             2634.582\n",
            "Skew:                           1.046   Prob(JB):                         0.00\n",
            "Kurtosis:                       4.878   Cond. No.                         4.16\n",
            "==============================================================================\n",
            "\n",
            "Warnings:\n",
            "[1] Standard Errors assume that the covariance matrix of the errors is correctly specified.\n",
            "                 Generalized Linear Model Regression Results                  \n",
            "==============================================================================\n",
            "Dep. Variable:           subjectivity   No. Observations:                 7999\n",
            "Model:                         GLMGam   Df Residuals:                     7989\n",
            "Model Family:                Gaussian   Df Model:                         9.00\n",
            "Link Function:               identity   Scale:                        0.037892\n",
            "Method:                         PIRLS   Log-Likelihood:                 1745.4\n",
            "Date:                Fri, 09 Apr 2021   Deviance:                       302.72\n",
            "Time:                        05:09:08   Pearson chi2:                     303.\n",
            "No. Iterations:                     3                                         \n",
            "Covariance Type:            nonrobust                                         \n",
            "===============================================================================\n",
            "                  coef    std err          z      P>|z|      [0.025      0.975]\n",
            "-------------------------------------------------------------------------------\n",
            "Intercept       0.6467      0.010     64.528      0.000       0.627       0.666\n",
            "polarity       -0.2415      0.023    -10.650      0.000      -0.286      -0.197\n",
            "polarity_s0     0.3432      0.067      5.158      0.000       0.213       0.474\n",
            "polarity_s1    -0.3541      0.038     -9.401      0.000      -0.428      -0.280\n",
            "polarity_s2    -0.1909      0.020     -9.580      0.000      -0.230      -0.152\n",
            "polarity_s3    -0.5925      0.010    -56.649      0.000      -0.613      -0.572\n",
            "polarity_s4    -0.0833      0.019     -4.349      0.000      -0.121      -0.046\n",
            "polarity_s5    -0.2052      0.017    -11.896      0.000      -0.239      -0.171\n",
            "polarity_s6     0.2141      0.025      8.523      0.000       0.165       0.263\n",
            "polarity_s7     0.3787      0.029     12.947      0.000       0.321       0.436\n",
            "polarity_s8     0.3137      0.021     15.070      0.000       0.273       0.354\n",
            "===============================================================================\n"
          ],
          "name": "stdout"
        },
        {
          "output_type": "execute_result",
          "data": {
            "text/plain": [
              "KNeighborsRegressor(algorithm='auto', leaf_size=30, metric='minkowski',\n",
              "                    metric_params=None, n_jobs=None, n_neighbors=17, p=2,\n",
              "                    weights='uniform')"
            ]
          },
          "metadata": {
            "tags": []
          },
          "execution_count": 13
        }
      ]
    },
    {
      "cell_type": "markdown",
      "metadata": {
        "id": "IPX1z_IrBHRe"
      },
      "source": [
        "## Prediction and Results"
      ]
    },
    {
      "cell_type": "code",
      "metadata": {
        "colab": {
          "base_uri": "https://localhost:8080/",
          "height": 347
        },
        "id": "pzqehDIVILz2",
        "outputId": "e05c9a36-9799-42c5-a37e-397933ce746e"
      },
      "source": [
        "# Creating predictions\n",
        "y_test_preds_lin = reg_abs.predict({'abs_polarity': X_test_abs_sent})\n",
        "y_test_preds_knr = knr.predict(X_test_sent.reshape(-1, 1))\n",
        "y_test_preds_gam = reg_gam.predict(exog_smooth=np.asarray(X_test_sent), exog={'polarity': X_test_sent})\n",
        "y_test_preds_quad = reg_quad.predict({'sq_polarity': np.square(X_test_sent), 'polarity': X_test_sent})\n",
        "\n",
        "# Calculating RMSE values\n",
        "gam_rmse = mean_squared_error(y_test, y_test_preds_gam, squared=False)\n",
        "quad_rmse = mean_squared_error(y_test, y_test_preds_quad, squared=False)\n",
        "lin_rmse = mean_squared_error(y_test, y_test_preds_lin, squared=False)\n",
        "knr_rmse = mean_squared_error(y_test, y_test_preds_knr)\n",
        "print(f\"GAM RMSE: {gam_rmse}\")\n",
        "print(f\"Linear regression RMSE: {lin_rmse}\")\n",
        "print(f\"KNN Regressor RMSE: {knr_rmse}\")\n",
        "print(f\"Quadratic regression RMSE: {quad_rmse}\")\n",
        "\n",
        "# Plotting true values for test set\n",
        "plt.scatter(X_test_sent, y_test, color=\"orange\", label=\"True Values\")\n",
        "# Plotting predictions for KNN\n",
        "plt.scatter(X_test_sent, y_test_preds_knr, color=\"green\", label=\"KNN Regressor Predictions\")\n",
        "# Plotting predictions for GAM\n",
        "plt.scatter(X_test_sent, y_test_preds_gam, color=\"blue\", label= \"GAM Predictions\")\n",
        "# Plotting predictions for Linear Regression with Absolute Term\n",
        "plt.scatter(X_test_sent, y_test_preds_lin, color=\"red\", label=\"Linear Regression Predictions\")\n",
        "# Plotting predictions for Quadratic Regression\n",
        "plt.scatter(X_test_sent, y_test_preds_quad, color=\"purple\", label=\"Quadratic Regression Predictions\")\n",
        "plt.xlabel(\"Polarity\")\n",
        "plt.ylabel(\"Subjectivity\")\n",
        "plt.legend(bbox_to_anchor=(1.05, 1))\n",
        "plt.show()"
      ],
      "execution_count": 11,
      "outputs": [
        {
          "output_type": "stream",
          "text": [
            "GAM RMSE: 0.19565466224620848\n",
            "Linear regression RMSE: 0.23426203220824005\n",
            "KNN Regressor RMSE: 0.03703841636892215\n",
            "Quadratic regression RMSE: 0.2807694224946956\n"
          ],
          "name": "stdout"
        },
        {
          "output_type": "display_data",
          "data": {
            "image/png": "[encoded data removed]",
            "text/plain": [
              "<Figure size 432x288 with 1 Axes>"
            ]
          },
          "metadata": {
            "tags": [],
            "needs_background": "light"
          }
        }
      ]
    },
    {
      "cell_type": "code",
      "metadata": {
        "colab": {
          "base_uri": "https://localhost:8080/",
          "height": 1000
        },
        "id": "y35j6Revh5nQ",
        "outputId": "557f0c50-5b27-4659-a236-6f4bf8c71da7"
      },
      "source": [
        "# Independent Plots\n",
        "\n",
        "# Plotting predictions for KNN\n",
        "plt.scatter(X_test_sent, y_test, color=\"orange\", label=\"True Values\")\n",
        "plt.scatter(X_test_sent, y_test_preds_knr, color=\"green\", label=\"KNN Regressor Predictions\")\n",
        "plt.xlabel(\"Polarity\")\n",
        "plt.ylabel(\"Subjectivity\")\n",
        "plt.legend(bbox_to_anchor=(1.05, 1))\n",
        "plt.show()\n",
        "\n",
        "# Plotting predictions for GAM\n",
        "plt.scatter(X_test_sent, y_test, color=\"orange\", label=\"True Values\")\n",
        "plt.scatter(X_test_sent, y_test_preds_gam, color=\"blue\", label= \"GAM Predictions\")\n",
        "plt.xlabel(\"Polarity\")\n",
        "plt.ylabel(\"Subjectivity\")\n",
        "plt.legend(bbox_to_anchor=(1.05, 1))\n",
        "plt.show()\n",
        "\n",
        "# Plotting predictions for Linear Regression with Absolute Term\n",
        "plt.scatter(X_test_sent, y_test, color=\"orange\", label=\"True Values\")\n",
        "plt.scatter(X_test_sent, y_test_preds_lin, color=\"red\", label=\"Linear Regression Predictions\")\n",
        "plt.xlabel(\"Polarity\")\n",
        "plt.ylabel(\"Subjectivity\")\n",
        "plt.legend(bbox_to_anchor=(1.05, 1))\n",
        "plt.show()\n",
        "\n",
        "# Plotting predictions for Quadratic Regression\n",
        "plt.scatter(X_test_sent, y_test, color=\"orange\", label=\"True Values\")\n",
        "plt.scatter(X_test_sent, y_test_preds_quad, color=\"purple\", label=\"Quadratic Regression Predictions\")\n",
        "plt.xlabel(\"Polarity\")\n",
        "plt.ylabel(\"Subjectivity\")\n",
        "plt.legend(bbox_to_anchor=(1.05, 1))\n",
        "plt.show()"
      ],
      "execution_count": 12,
      "outputs": [
        {
          "output_type": "display_data",
          "data": {
            "image/png": "[encoded data removed]",
            "text/plain": [
              "<Figure size 432x288 with 1 Axes>"
            ]
          },
          "metadata": {
            "tags": [],
            "needs_background": "light"
          }
        },
        {
          "output_type": "display_data",
          "data": {
            "image/png": "[encoded data removed]",
            "text/plain": [
              "<Figure size 432x288 with 1 Axes>"
            ]
          },
          "metadata": {
            "tags": [],
            "needs_background": "light"
          }
        },
        {
          "output_type": "display_data",
          "data": {
            "image/png": "[encoded data removed]",
            "text/plain": [
              "<Figure size 432x288 with 1 Axes>"
            ]
          },
          "metadata": {
            "tags": [],
            "needs_background": "light"
          }
        },
        {
          "output_type": "display_data",
          "data": {
            "image/png": "[encoded data removed]",
            "text/plain": [
              "<Figure size 432x288 with 1 Axes>"
            ]
          },
          "metadata": {
            "tags": [],
            "needs_background": "light"
          }
        }
      ]
    }
  ]
}